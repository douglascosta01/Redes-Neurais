{
  "nbformat": 4,
  "nbformat_minor": 0,
  "metadata": {
    "colab": {
      "provenance": [],
      "authorship_tag": "ABX9TyNqayjXXd6/kjzgEvSszgZc",
      "include_colab_link": true
    },
    "kernelspec": {
      "name": "python3",
      "display_name": "Python 3"
    },
    "language_info": {
      "name": "python"
    }
  },
  "cells": [
    {
      "cell_type": "markdown",
      "metadata": {
        "id": "view-in-github",
        "colab_type": "text"
      },
      "source": [
        "<a href=\"https://colab.research.google.com/github/douglascosta01/Redes-Neurais/blob/main/Rede_MLP_e_Melhorias.ipynb\" target=\"_parent\"><img src=\"https://colab.research.google.com/assets/colab-badge.svg\" alt=\"Open In Colab\"/></a>"
      ]
    },
    {
      "cell_type": "markdown",
      "source": [
        "**Carregamento dos pacotes**"
      ],
      "metadata": {
        "id": "XOpXo4IrI77W"
      }
    },
    {
      "cell_type": "code",
      "execution_count": 1,
      "metadata": {
        "id": "HSpuhNmW_KBM"
      },
      "outputs": [],
      "source": [
        "import numpy as np\n",
        "import pandas as pd\n",
        "import torch\n",
        "import torch.nn as nn\n",
        "import torch.nn.functional as F\n",
        "from torch.utils.data import TensorDataset, DataLoader\n",
        "import sklearn.datasets\n",
        "from sklearn.preprocessing import MinMaxScaler\n",
        "from sklearn.model_selection import train_test_split\n",
        "import seaborn as sns\n",
        "import matplotlib.pyplot as plt"
      ]
    },
    {
      "cell_type": "markdown",
      "source": [
        "**Dados**\n",
        "\n",
        "\n",
        "\n",
        "\n"
      ],
      "metadata": {
        "id": "7dhFjcY5KYim"
      }
    },
    {
      "cell_type": "markdown",
      "source": [
        "Geração dos Dados\n"
      ],
      "metadata": {
        "id": "YgkHiZCbKuxs"
      }
    },
    {
      "cell_type": "code",
      "source": [
        "np.random.seed(0)\n",
        "X = np.arange(0,20,0.1)\n",
        "Y = np.sin(X) + 0.3*np.random.randn(X.shape[0]) + 0.3*X\n",
        "\n",
        "X = X / np.max(X)\n",
        "# Y = Y np.max(Y)\n",
        "plt.plot(X,Y, '.')\n",
        "print(X.shape)"
      ],
      "metadata": {
        "colab": {
          "base_uri": "https://localhost:8080/",
          "height": 282
        },
        "id": "HHxM3bymKj_N",
        "outputId": "8d9d8d8a-20f3-4dbb-9451-2e5036cd273e"
      },
      "execution_count": 6,
      "outputs": [
        {
          "output_type": "stream",
          "name": "stdout",
          "text": [
            "(200,)\n"
          ]
        },
        {
          "output_type": "display_data",
          "data": {
            "text/plain": [
              "<Figure size 432x288 with 1 Axes>"
            ],
            "image/png": "[encoded data removed]"
          },
          "metadata": {
            "needs_background": "light"
          }
        }
      ]
    },
    {
      "cell_type": "markdown",
      "source": [
        "**Separação**"
      ],
      "metadata": {
        "id": "yIm6G4EvNHN6"
      }
    },
    {
      "cell_type": "markdown",
      "source": [
        "Treino/Validação/Teste"
      ],
      "metadata": {
        "id": "n6gt9pmENL1Z"
      }
    },
    {
      "cell_type": "code",
      "source": [
        "X = X.reshape((-1, 1))\n",
        "Y = Y.reshape((-1, 1))\n",
        "\n",
        "# separação para desenvolvimento (30) e teste (70)\n",
        "X_dev, X_test, Y_dev, Y_test = train_test_split(X, Y, test_size=0.7,random_state=3)\n",
        "\n",
        "# separação para treino (80) e validação (20)\n",
        "X_train, X_val, Y_train, Y_val = train_test_split(X_dev, Y_dev, test_size=0.5, random_state=3)\n",
        "\n",
        "print(X_train.shape)\n",
        "print(X_val.shape)\n",
        "print(X_test.shape)\n",
        "\n",
        "plt.plot(X_train, Y_train, 'o', label='Treino')\n",
        "plt.plot(X_val, Y_val, 'o', label='validação')\n",
        "plt.plot(X_test, Y_test, 'o', label='Test')\n",
        "plt.legend()\n",
        "plt.show()"
      ],
      "metadata": {
        "colab": {
          "base_uri": "https://localhost:8080/",
          "height": 317
        },
        "id": "JQpj2FZHNQ0B",
        "outputId": "98a4f140-c8f6-457e-9751-901a0f1c15e2"
      },
      "execution_count": 7,
      "outputs": [
        {
          "output_type": "stream",
          "name": "stdout",
          "text": [
            "(30, 1)\n",
            "(30, 1)\n",
            "(140, 1)\n"
          ]
        },
        {
          "output_type": "display_data",
          "data": {
            "text/plain": [
              "<Figure size 432x288 with 1 Axes>"
            ],
            "image/png": "[encoded data removed]"
          },
          "metadata": {
            "needs_background": "light"
          }
        }
      ]
    },
    {
      "cell_type": "markdown",
      "source": [
        "**Transformação dos dados em tensores Pytorch**"
      ],
      "metadata": {
        "id": "9VJK-xVWUHAS"
      }
    },
    {
      "cell_type": "code",
      "source": [
        "x_train = torch.FloatTensor(X_train)\n",
        "y_train = torch.FloatTensor(Y_train)\n",
        "\n",
        "x_val = torch.FloatTensor(X_val)\n",
        "y_val = torch.FloatTensor(Y_val)\n",
        "\n",
        "x_test = torch.FloatTensor(X_test)\n",
        "y_test = torch.FloatTensor(Y_test)"
      ],
      "metadata": {
        "id": "fO3xJfziUQer"
      },
      "execution_count": 8,
      "outputs": []
    },
    {
      "cell_type": "markdown",
      "source": [
        "**Modelo 01**"
      ],
      "metadata": {
        "id": "ghV0vPYFXA_l"
      }
    },
    {
      "cell_type": "code",
      "source": [
        "class MLP(nn.Module):\n",
        "  def __init__(self, input_dim, output_dim):\n",
        "    super(MLP,self).__init__()\n",
        "    self.rede = nn.Sequential(\n",
        "        nn.Linear(input_dim,512),\n",
        "        nn.Tanh(),\n",
        "        nn.Linear(512,256),\n",
        "        nn.Tanh(),\n",
        "        nn.Linear(256,128),\n",
        "        nn.Tanh(),\n",
        "        nn.Linear(128,64),\n",
        "        nn.Tanh(),\n",
        "        nn.Linear(64,output_dim,)\n",
        "    )\n",
        "  def forward(self,x):\n",
        "    out= self.rede(x)\n",
        "    return out"
      ],
      "metadata": {
        "id": "XIrC5iVuXTif"
      },
      "execution_count": 9,
      "outputs": []
    },
    {
      "cell_type": "markdown",
      "source": [
        "**Instanciação do Modelo**"
      ],
      "metadata": {
        "id": "9JbZve1_hZ5w"
      }
    },
    {
      "cell_type": "code",
      "source": [
        "input_dim = 1 # numero de atributos \n",
        "output_dim = 1 # numero de classes\n",
        "\n",
        "modelo = MLP(input_dim, output_dim)"
      ],
      "metadata": {
        "id": "LjW_qKUZhfOX"
      },
      "execution_count": 10,
      "outputs": []
    },
    {
      "cell_type": "code",
      "source": [
        "from torchsummary import summary\n",
        "\n",
        "print(modelo)\n",
        "summary(modelo, (1,1))"
      ],
      "metadata": {
        "colab": {
          "base_uri": "https://localhost:8080/"
        },
        "id": "sCn3oEv4iKwY",
        "outputId": "8b2a4bbd-fc33-45f5-c355-68883f54df54"
      },
      "execution_count": 11,
      "outputs": [
        {
          "output_type": "stream",
          "name": "stdout",
          "text": [
            "MLP(\n",
            "  (rede): Sequential(\n",
            "    (0): Linear(in_features=1, out_features=512, bias=True)\n",
            "    (1): Tanh()\n",
            "    (2): Linear(in_features=512, out_features=256, bias=True)\n",
            "    (3): Tanh()\n",
            "    (4): Linear(in_features=256, out_features=128, bias=True)\n",
            "    (5): Tanh()\n",
            "    (6): Linear(in_features=128, out_features=64, bias=True)\n",
            "    (7): Tanh()\n",
            "    (8): Linear(in_features=64, out_features=1, bias=True)\n",
            "  )\n",
            ")\n",
            "----------------------------------------------------------------\n",
            "        Layer (type)               Output Shape         Param #\n",
            "================================================================\n",
            "            Linear-1               [-1, 1, 512]           1,024\n",
            "              Tanh-2               [-1, 1, 512]               0\n",
            "            Linear-3               [-1, 1, 256]         131,328\n",
            "              Tanh-4               [-1, 1, 256]               0\n",
            "            Linear-5               [-1, 1, 128]          32,896\n",
            "              Tanh-6               [-1, 1, 128]               0\n",
            "            Linear-7                [-1, 1, 64]           8,256\n",
            "              Tanh-8                [-1, 1, 64]               0\n",
            "            Linear-9                 [-1, 1, 1]              65\n",
            "================================================================\n",
            "Total params: 173,569\n",
            "Trainable params: 173,569\n",
            "Non-trainable params: 0\n",
            "----------------------------------------------------------------\n",
            "Input size (MB): 0.00\n",
            "Forward/backward pass size (MB): 0.01\n",
            "Params size (MB): 0.66\n",
            "Estimated Total Size (MB): 0.68\n",
            "----------------------------------------------------------------\n"
          ]
        }
      ]
    },
    {
      "cell_type": "markdown",
      "source": [
        "**Treinamento**"
      ],
      "metadata": {
        "id": "bpjzuoi1ih5C"
      }
    },
    {
      "cell_type": "markdown",
      "source": [
        "Otimizador e Função Custo"
      ],
      "metadata": {
        "id": "LR0bkzbrioFi"
      }
    },
    {
      "cell_type": "code",
      "source": [
        "eta = 0.02\n",
        "loss_function = nn.MSELoss()\n",
        "optmizer = torch.optim.SGD(modelo.parameters(),lr=eta)"
      ],
      "metadata": {
        "id": "9dR4V08wiuEl"
      },
      "execution_count": 14,
      "outputs": []
    },
    {
      "cell_type": "code",
      "source": [
        "# verificando disponiblidade de gpu\n",
        "device = torch.device('cuda' if torch.cuda.is_available() else 'cpu')\n",
        "device"
      ],
      "metadata": {
        "colab": {
          "base_uri": "https://localhost:8080/"
        },
        "id": "iyc1lRlRkCEE",
        "outputId": "3301d757-4c9e-4fd9-e2e3-79742c1f82ee"
      },
      "execution_count": 15,
      "outputs": [
        {
          "output_type": "execute_result",
          "data": {
            "text/plain": [
              "device(type='cpu')"
            ]
          },
          "metadata": {},
          "execution_count": 15
        }
      ]
    },
    {
      "cell_type": "markdown",
      "source": [
        "Laço de Treinamento da Rede"
      ],
      "metadata": {
        "id": "PNaZUWFfklOp"
      }
    },
    {
      "cell_type": "code",
      "source": [
        "def train_network(model, optmizer, loss_function, x_train, y_train, x_val, y_val, num_epochs, train_losses, val_losses):\n",
        "  for epoch in range(num_epochs):\n",
        "    # zerando os gradientes da época anterior\n",
        "    optmizer.zero_grad()\n",
        "\n",
        "    # fase de propagação\n",
        "    output_train = model(x_train)\n",
        "\n",
        "    # cálculo do erro (função de custo - loss function)\n",
        "    loss_train = loss_function(output_train, y_train)\n",
        "\n",
        "    # fase de retropropagação \n",
        "    loss_train.backward()\n",
        "\n",
        "    # atualização dos pesos da rede\n",
        "    optmizer.step()\n",
        "\n",
        "    # avaliando o modelo com o conjunto de validação\n",
        "    output_val = model(x_val)\n",
        "    loss_val = loss_function(output_val,y_val)\n",
        "\n",
        "    train_losses[epoch] = loss_train.item()\n",
        "\n",
        "    if (epoch + 1) % 500 == 0:\n",
        "      print(f\"Epoch {epoch+1}/{num_epochs}, Erro de Treino: {loss_train.item():.4f}, Erro de validação: {loss_val.item():.3f}\")"
      ],
      "metadata": {
        "id": "o1r9hgaOkpEo"
      },
      "execution_count": 21,
      "outputs": []
    },
    {
      "cell_type": "code",
      "source": [
        "num_epochs = 10000\n",
        "\n",
        "train_losses = np.zeros(num_epochs)\n",
        "val_losses = np.zeros(num_epochs)\n",
        "\n",
        "train_network(modelo, optmizer, loss_function, x_train, y_train, x_val, Y_val, num_epochs, train_losses, val_losses)"
      ],
      "metadata": {
        "colab": {
          "base_uri": "https://localhost:8080/",
          "height": 345
        },
        "id": "c2YknSibuEkH",
        "outputId": "98a99b0a-802b-4616-9f78-a9f2ef269856"
      },
      "execution_count": 22,
      "outputs": [
        {
          "output_type": "error",
          "ename": "TypeError",
          "evalue": "ignored",
          "traceback": [
            "\u001b[0;31m---------------------------------------------------------------------------\u001b[0m",
            "\u001b[0;31mTypeError\u001b[0m                                 Traceback (most recent call last)",
            "\u001b[0;32m<ipython-input-22-a7493dfbe2a2>\u001b[0m in \u001b[0;36m<module>\u001b[0;34m\u001b[0m\n\u001b[1;32m      4\u001b[0m \u001b[0mval_losses\u001b[0m \u001b[0;34m=\u001b[0m \u001b[0mnp\u001b[0m\u001b[0;34m.\u001b[0m\u001b[0mzeros\u001b[0m\u001b[0;34m(\u001b[0m\u001b[0mnum_epochs\u001b[0m\u001b[0;34m)\u001b[0m\u001b[0;34m\u001b[0m\u001b[0;34m\u001b[0m\u001b[0m\n\u001b[1;32m      5\u001b[0m \u001b[0;34m\u001b[0m\u001b[0m\n\u001b[0;32m----> 6\u001b[0;31m \u001b[0mtrain_network\u001b[0m\u001b[0;34m(\u001b[0m\u001b[0mmodelo\u001b[0m\u001b[0;34m,\u001b[0m \u001b[0moptmizer\u001b[0m\u001b[0;34m,\u001b[0m \u001b[0mloss_function\u001b[0m\u001b[0;34m,\u001b[0m \u001b[0mx_train\u001b[0m\u001b[0;34m,\u001b[0m \u001b[0my_train\u001b[0m\u001b[0;34m,\u001b[0m \u001b[0mx_val\u001b[0m\u001b[0;34m,\u001b[0m \u001b[0mY_val\u001b[0m\u001b[0;34m,\u001b[0m \u001b[0mnum_epochs\u001b[0m\u001b[0;34m,\u001b[0m \u001b[0mtrain_losses\u001b[0m\u001b[0;34m,\u001b[0m \u001b[0mval_losses\u001b[0m\u001b[0;34m)\u001b[0m\u001b[0;34m\u001b[0m\u001b[0;34m\u001b[0m\u001b[0m\n\u001b[0m",
            "\u001b[0;32m<ipython-input-21-6c89c078e6e9>\u001b[0m in \u001b[0;36mtrain_network\u001b[0;34m(model, optmizer, loss_function, x_train, y_train, x_val, y_val, num_epochs, train_losses, val_losses)\u001b[0m\n\u001b[1;32m     18\u001b[0m     \u001b[0;31m# avaliando o modelo com o conjunto de validação\u001b[0m\u001b[0;34m\u001b[0m\u001b[0;34m\u001b[0m\u001b[0;34m\u001b[0m\u001b[0m\n\u001b[1;32m     19\u001b[0m     \u001b[0moutput_val\u001b[0m \u001b[0;34m=\u001b[0m \u001b[0mmodel\u001b[0m\u001b[0;34m(\u001b[0m\u001b[0mx_val\u001b[0m\u001b[0;34m)\u001b[0m\u001b[0;34m\u001b[0m\u001b[0;34m\u001b[0m\u001b[0m\n\u001b[0;32m---> 20\u001b[0;31m     \u001b[0mloss_val\u001b[0m \u001b[0;34m=\u001b[0m \u001b[0mloss_function\u001b[0m\u001b[0;34m(\u001b[0m\u001b[0moutput_val\u001b[0m\u001b[0;34m,\u001b[0m\u001b[0my_val\u001b[0m\u001b[0;34m)\u001b[0m\u001b[0;34m\u001b[0m\u001b[0;34m\u001b[0m\u001b[0m\n\u001b[0m\u001b[1;32m     21\u001b[0m \u001b[0;34m\u001b[0m\u001b[0m\n\u001b[1;32m     22\u001b[0m     \u001b[0mtrain_losses\u001b[0m\u001b[0;34m[\u001b[0m\u001b[0mepoch\u001b[0m\u001b[0;34m]\u001b[0m \u001b[0;34m=\u001b[0m \u001b[0mloss_train\u001b[0m\u001b[0;34m.\u001b[0m\u001b[0mitem\u001b[0m\u001b[0;34m(\u001b[0m\u001b[0;34m)\u001b[0m\u001b[0;34m\u001b[0m\u001b[0;34m\u001b[0m\u001b[0m\n",
            "\u001b[0;32m/usr/local/lib/python3.8/dist-packages/torch/nn/modules/module.py\u001b[0m in \u001b[0;36m_call_impl\u001b[0;34m(self, *input, **kwargs)\u001b[0m\n\u001b[1;32m   1192\u001b[0m         if not (self._backward_hooks or self._forward_hooks or self._forward_pre_hooks or _global_backward_hooks\n\u001b[1;32m   1193\u001b[0m                 or _global_forward_hooks or _global_forward_pre_hooks):\n\u001b[0;32m-> 1194\u001b[0;31m             \u001b[0;32mreturn\u001b[0m \u001b[0mforward_call\u001b[0m\u001b[0;34m(\u001b[0m\u001b[0;34m*\u001b[0m\u001b[0minput\u001b[0m\u001b[0;34m,\u001b[0m \u001b[0;34m**\u001b[0m\u001b[0mkwargs\u001b[0m\u001b[0;34m)\u001b[0m\u001b[0;34m\u001b[0m\u001b[0;34m\u001b[0m\u001b[0m\n\u001b[0m\u001b[1;32m   1195\u001b[0m         \u001b[0;31m# Do not call functions when jit is used\u001b[0m\u001b[0;34m\u001b[0m\u001b[0;34m\u001b[0m\u001b[0;34m\u001b[0m\u001b[0m\n\u001b[1;32m   1196\u001b[0m         \u001b[0mfull_backward_hooks\u001b[0m\u001b[0;34m,\u001b[0m \u001b[0mnon_full_backward_hooks\u001b[0m \u001b[0;34m=\u001b[0m \u001b[0;34m[\u001b[0m\u001b[0;34m]\u001b[0m\u001b[0;34m,\u001b[0m \u001b[0;34m[\u001b[0m\u001b[0;34m]\u001b[0m\u001b[0;34m\u001b[0m\u001b[0;34m\u001b[0m\u001b[0m\n",
            "\u001b[0;32m/usr/local/lib/python3.8/dist-packages/torch/nn/modules/loss.py\u001b[0m in \u001b[0;36mforward\u001b[0;34m(self, input, target)\u001b[0m\n\u001b[1;32m    534\u001b[0m \u001b[0;34m\u001b[0m\u001b[0m\n\u001b[1;32m    535\u001b[0m     \u001b[0;32mdef\u001b[0m \u001b[0mforward\u001b[0m\u001b[0;34m(\u001b[0m\u001b[0mself\u001b[0m\u001b[0;34m,\u001b[0m \u001b[0minput\u001b[0m\u001b[0;34m:\u001b[0m \u001b[0mTensor\u001b[0m\u001b[0;34m,\u001b[0m \u001b[0mtarget\u001b[0m\u001b[0;34m:\u001b[0m \u001b[0mTensor\u001b[0m\u001b[0;34m)\u001b[0m \u001b[0;34m->\u001b[0m \u001b[0mTensor\u001b[0m\u001b[0;34m:\u001b[0m\u001b[0;34m\u001b[0m\u001b[0;34m\u001b[0m\u001b[0m\n\u001b[0;32m--> 536\u001b[0;31m         \u001b[0;32mreturn\u001b[0m \u001b[0mF\u001b[0m\u001b[0;34m.\u001b[0m\u001b[0mmse_loss\u001b[0m\u001b[0;34m(\u001b[0m\u001b[0minput\u001b[0m\u001b[0;34m,\u001b[0m \u001b[0mtarget\u001b[0m\u001b[0;34m,\u001b[0m \u001b[0mreduction\u001b[0m\u001b[0;34m=\u001b[0m\u001b[0mself\u001b[0m\u001b[0;34m.\u001b[0m\u001b[0mreduction\u001b[0m\u001b[0;34m)\u001b[0m\u001b[0;34m\u001b[0m\u001b[0;34m\u001b[0m\u001b[0m\n\u001b[0m\u001b[1;32m    537\u001b[0m \u001b[0;34m\u001b[0m\u001b[0m\n\u001b[1;32m    538\u001b[0m \u001b[0;34m\u001b[0m\u001b[0m\n",
            "\u001b[0;32m/usr/local/lib/python3.8/dist-packages/torch/nn/functional.py\u001b[0m in \u001b[0;36mmse_loss\u001b[0;34m(input, target, size_average, reduce, reduction)\u001b[0m\n\u001b[1;32m   3279\u001b[0m             \u001b[0mmse_loss\u001b[0m\u001b[0;34m,\u001b[0m \u001b[0;34m(\u001b[0m\u001b[0minput\u001b[0m\u001b[0;34m,\u001b[0m \u001b[0mtarget\u001b[0m\u001b[0;34m)\u001b[0m\u001b[0;34m,\u001b[0m \u001b[0minput\u001b[0m\u001b[0;34m,\u001b[0m \u001b[0mtarget\u001b[0m\u001b[0;34m,\u001b[0m \u001b[0msize_average\u001b[0m\u001b[0;34m=\u001b[0m\u001b[0msize_average\u001b[0m\u001b[0;34m,\u001b[0m \u001b[0mreduce\u001b[0m\u001b[0;34m=\u001b[0m\u001b[0mreduce\u001b[0m\u001b[0;34m,\u001b[0m \u001b[0mreduction\u001b[0m\u001b[0;34m=\u001b[0m\u001b[0mreduction\u001b[0m\u001b[0;34m\u001b[0m\u001b[0;34m\u001b[0m\u001b[0m\n\u001b[1;32m   3280\u001b[0m         )\n\u001b[0;32m-> 3281\u001b[0;31m     \u001b[0;32mif\u001b[0m \u001b[0;32mnot\u001b[0m \u001b[0;34m(\u001b[0m\u001b[0mtarget\u001b[0m\u001b[0;34m.\u001b[0m\u001b[0msize\u001b[0m\u001b[0;34m(\u001b[0m\u001b[0;34m)\u001b[0m \u001b[0;34m==\u001b[0m \u001b[0minput\u001b[0m\u001b[0;34m.\u001b[0m\u001b[0msize\u001b[0m\u001b[0;34m(\u001b[0m\u001b[0;34m)\u001b[0m\u001b[0;34m)\u001b[0m\u001b[0;34m:\u001b[0m\u001b[0;34m\u001b[0m\u001b[0;34m\u001b[0m\u001b[0m\n\u001b[0m\u001b[1;32m   3282\u001b[0m         warnings.warn(\n\u001b[1;32m   3283\u001b[0m             \u001b[0;34m\"Using a target size ({}) that is different to the input size ({}). \"\u001b[0m\u001b[0;34m\u001b[0m\u001b[0;34m\u001b[0m\u001b[0m\n",
            "\u001b[0;31mTypeError\u001b[0m: 'int' object is not callable"
          ]
        }
      ]
    }
  ]
}