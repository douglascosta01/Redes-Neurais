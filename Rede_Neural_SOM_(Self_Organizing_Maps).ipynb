{
  "nbformat": 4,
  "nbformat_minor": 0,
  "metadata": {
    "colab": {
      "provenance": [],
      "authorship_tag": "ABX9TyM13qAh/5+ZMg+oAMiDXRzC",
      "include_colab_link": true
    },
    "kernelspec": {
      "name": "python3",
      "display_name": "Python 3"
    },
    "language_info": {
      "name": "python"
    }
  },
  "cells": [
    {
      "cell_type": "markdown",
      "metadata": {
        "id": "view-in-github",
        "colab_type": "text"
      },
      "source": [
        "<a href=\"https://colab.research.google.com/github/douglascosta01/Redes-Neurais/blob/main/Rede_Neural_SOM_(Self_Organizing_Maps).ipynb\" target=\"_parent\"><img src=\"https://colab.research.google.com/assets/colab-badge.svg\" alt=\"Open In Colab\"/></a>"
      ]
    },
    {
      "cell_type": "markdown",
      "source": [
        "**Instalação do MiniSOM**"
      ],
      "metadata": {
        "id": "SjfRxDdwMLeb"
      }
    },
    {
      "cell_type": "code",
      "execution_count": 16,
      "metadata": {
        "colab": {
          "base_uri": "https://localhost:8080/"
        },
        "id": "4SCO79_kKpLl",
        "outputId": "701e26be-8783-4e2e-c9b2-1d6e1cf5f23c"
      },
      "outputs": [
        {
          "output_type": "stream",
          "name": "stdout",
          "text": [
            "Looking in indexes: https://pypi.org/simple, https://us-python.pkg.dev/colab-wheels/public/simple/\n",
            "Requirement already satisfied: minisom in /usr/local/lib/python3.8/dist-packages (2.3.1)\n"
          ]
        }
      ],
      "source": [
        "!pip install minisom"
      ]
    },
    {
      "cell_type": "markdown",
      "source": [
        "**Importação do pacote MiniSom**"
      ],
      "metadata": {
        "id": "vFeeq_wgNHpb"
      }
    },
    {
      "cell_type": "code",
      "source": [
        "from minisom import MiniSom"
      ],
      "metadata": {
        "id": "wAR1hYoUM8Yo"
      },
      "execution_count": 17,
      "outputs": []
    },
    {
      "cell_type": "code",
      "source": [
        "# gerando uma rede SOM\n",
        "som = MiniSom(10, 10, 5, sigma=0.3, learning_rate=0.5)"
      ],
      "metadata": {
        "id": "NOAnaPZtNZxu"
      },
      "execution_count": 18,
      "outputs": []
    },
    {
      "cell_type": "markdown",
      "source": [
        "**Importação dos pacotes**"
      ],
      "metadata": {
        "id": "mU0E24woPmJo"
      }
    },
    {
      "cell_type": "code",
      "source": [
        "from minisom import MiniSom\n",
        "import sklearn.datasets\n",
        "import numpy as np\n",
        "import pandas as pd\n",
        "import seaborn as sns\n",
        "from sklearn.preprocessing import MinMaxScaler, StandardScaler\n",
        "import matplotlib.pyplot as plt\n",
        "from matplotlib.pyplot import figure"
      ],
      "metadata": {
        "id": "b_ewj4KWPsv4"
      },
      "execution_count": 19,
      "outputs": []
    },
    {
      "cell_type": "markdown",
      "source": [
        "**Carga dos Dados**"
      ],
      "metadata": {
        "id": "e8uZZq14Rqy_"
      }
    },
    {
      "cell_type": "code",
      "source": [
        "dados = sklearn.datasets.load_iris()\n",
        "df = pd.DataFrame(dados.data, columns = dados.feature_names)\n",
        "df['label'] = [dados.target_names[i] for i in dados.target]\n",
        "# sns.pairplot(df, hue = 'label')"
      ],
      "metadata": {
        "id": "Kz2v-mW3RyrP"
      },
      "execution_count": 20,
      "outputs": []
    },
    {
      "cell_type": "code",
      "source": [
        "print(df)"
      ],
      "metadata": {
        "colab": {
          "base_uri": "https://localhost:8080/"
        },
        "id": "ZdsmAs2cS4YL",
        "outputId": "1d23cc46-4c16-465c-91d1-18131e3bbbff"
      },
      "execution_count": 7,
      "outputs": [
        {
          "output_type": "stream",
          "name": "stdout",
          "text": [
            "     sepal length (cm)  sepal width (cm)  petal length (cm)  petal width (cm)  \\\n",
            "0                  5.1               3.5                1.4               0.2   \n",
            "1                  4.9               3.0                1.4               0.2   \n",
            "2                  4.7               3.2                1.3               0.2   \n",
            "3                  4.6               3.1                1.5               0.2   \n",
            "4                  5.0               3.6                1.4               0.2   \n",
            "..                 ...               ...                ...               ...   \n",
            "145                6.7               3.0                5.2               2.3   \n",
            "146                6.3               2.5                5.0               1.9   \n",
            "147                6.5               3.0                5.2               2.0   \n",
            "148                6.2               3.4                5.4               2.3   \n",
            "149                5.9               3.0                5.1               1.8   \n",
            "\n",
            "         label  \n",
            "0       setosa  \n",
            "1       setosa  \n",
            "2       setosa  \n",
            "3       setosa  \n",
            "4       setosa  \n",
            "..         ...  \n",
            "145  virginica  \n",
            "146  virginica  \n",
            "147  virginica  \n",
            "148  virginica  \n",
            "149  virginica  \n",
            "\n",
            "[150 rows x 5 columns]\n"
          ]
        }
      ]
    },
    {
      "cell_type": "code",
      "source": [
        "x = df.drop(['label'], axis=1)\n",
        "\n",
        "# normalizando os dados (MinMax)\n",
        "# normalizador = MinMaxScaler ()\n",
        "# x_norm = pd,DataFrame(normalizador.fit_transform(x), columns=x.columns)\n",
        "\n",
        "labels = df.label.unique()\n",
        "\n",
        "# transformando dados categóricos em dados numéricos\n",
        "df['label'].replace(df['label'].unique(), [0,1,2], inplace=True)\n",
        "target = df['label'].values\n",
        "print(df)"
      ],
      "metadata": {
        "colab": {
          "base_uri": "https://localhost:8080/"
        },
        "id": "WxbtiQ_Vat1J",
        "outputId": "1083685d-7fab-4574-e8a1-aa760800c4a0"
      },
      "execution_count": 21,
      "outputs": [
        {
          "output_type": "stream",
          "name": "stdout",
          "text": [
            "     sepal length (cm)  sepal width (cm)  petal length (cm)  petal width (cm)  \\\n",
            "0                  5.1               3.5                1.4               0.2   \n",
            "1                  4.9               3.0                1.4               0.2   \n",
            "2                  4.7               3.2                1.3               0.2   \n",
            "3                  4.6               3.1                1.5               0.2   \n",
            "4                  5.0               3.6                1.4               0.2   \n",
            "..                 ...               ...                ...               ...   \n",
            "145                6.7               3.0                5.2               2.3   \n",
            "146                6.3               2.5                5.0               1.9   \n",
            "147                6.5               3.0                5.2               2.0   \n",
            "148                6.2               3.4                5.4               2.3   \n",
            "149                5.9               3.0                5.1               1.8   \n",
            "\n",
            "     label  \n",
            "0        0  \n",
            "1        0  \n",
            "2        0  \n",
            "3        0  \n",
            "4        0  \n",
            "..     ...  \n",
            "145      2  \n",
            "146      2  \n",
            "147      2  \n",
            "148      2  \n",
            "149      2  \n",
            "\n",
            "[150 rows x 5 columns]\n"
          ]
        }
      ]
    },
    {
      "cell_type": "code",
      "source": [
        "sns.heatmap(x.astype(float).corr(), linewidths= 0.1, linecolor = 'white', cmap='Reds')\n",
        "plt.title('Mapa de Correlação de Atributos')\n"
      ],
      "metadata": {
        "colab": {
          "base_uri": "https://localhost:8080/",
          "height": 376
        },
        "id": "KakJ2YqZpWfK",
        "outputId": "5c0918bb-0a7c-40f7-83cc-930e8d533674"
      },
      "execution_count": 22,
      "outputs": [
        {
          "output_type": "execute_result",
          "data": {
            "text/plain": [
              "Text(0.5, 1.0, 'Mapa de Correlação de Atributos')"
            ]
          },
          "metadata": {},
          "execution_count": 22
        },
        {
          "output_type": "display_data",
          "data": {
            "text/plain": [
              "<Figure size 432x288 with 2 Axes>"
            ],
            "image/png": "[encoded data removed]"
          },
          "metadata": {
            "needs_background": "light"
          }
        }
      ]
    },
    {
      "cell_type": "markdown",
      "source": [
        "**MODELO 01 (7X5)**"
      ],
      "metadata": {
        "id": "Zw8A-qaJsmyt"
      }
    },
    {
      "cell_type": "markdown",
      "source": [
        "Parâmetros do Modelo"
      ],
      "metadata": {
        "id": "6Bn8ITPasugu"
      }
    },
    {
      "cell_type": "code",
      "source": [
        "sigma = 5\n",
        "eta = 0.1\n",
        "epocas = 500\n",
        "random_seed = 1\n",
        "\n",
        "neighborhood_function = 'gaussian'\n",
        "topology = 'rectangular'\n",
        "neuD1 = 7 # número de neurônios ( dimensão 01 - linhas)\n",
        "neuD2 = 5 # número de neurônios (dimensão 02 - colunas)"
      ],
      "metadata": {
        "id": "kQ8TOVvts1_Y"
      },
      "execution_count": 23,
      "outputs": []
    },
    {
      "cell_type": "code",
      "source": [
        "som = MiniSom(neuD1, neuD2, x.shape[1],\n",
        "              sigma=sigma,\n",
        "              learning_rate=eta,\n",
        "              neighborhood_function=neighborhood_function,\n",
        "              random_seed=random_seed)\n",
        "\n",
        "som.random_weights_init(x.values)\n",
        "som.train_random(x.values, epocas)\n",
        "\n",
        "q_error = []\n",
        "t_error = []\n",
        "\n",
        "for i in range(epocas*len(x.values)):\n",
        "  rand_i = np.random.randint(len(x.values))\n",
        "  som.upadate(x.values[rand_i], som.winner(x.values[rand_i]), i, epocas)\n",
        "  q_error.append(som.quantization_error(x.values))\n",
        "  t_error.append(som.topographic_error(x.values))\n",
        "\n",
        "plt.plot(np.arange(epocas*len(x.values)), q_error, label='Erro de Quantização')\n",
        "plt.plot(np.arange(epocas*len(x.values)), t_error, label='Erro Topográfico')\n",
        "plt.ylabel('Erro')\n",
        "plt.xlabel('Iteração')\n",
        "plt.legend()\n",
        "plt.show()"
      ],
      "metadata": {
        "colab": {
          "base_uri": "https://localhost:8080/",
          "height": 235
        },
        "id": "6cmr8N1y0WdL",
        "outputId": "2ee1f3d2-108a-4715-cf39-841749f8d2ba"
      },
      "execution_count": 25,
      "outputs": [
        {
          "output_type": "error",
          "ename": "AttributeError",
          "evalue": "ignored",
          "traceback": [
            "\u001b[0;31m---------------------------------------------------------------------------\u001b[0m",
            "\u001b[0;31mAttributeError\u001b[0m                            Traceback (most recent call last)",
            "\u001b[0;32m<ipython-input-25-69be0964d158>\u001b[0m in \u001b[0;36m<module>\u001b[0;34m\u001b[0m\n\u001b[1;32m     13\u001b[0m \u001b[0;32mfor\u001b[0m \u001b[0mi\u001b[0m \u001b[0;32min\u001b[0m \u001b[0mrange\u001b[0m\u001b[0;34m(\u001b[0m\u001b[0mepocas\u001b[0m\u001b[0;34m*\u001b[0m\u001b[0mlen\u001b[0m\u001b[0;34m(\u001b[0m\u001b[0mx\u001b[0m\u001b[0;34m.\u001b[0m\u001b[0mvalues\u001b[0m\u001b[0;34m)\u001b[0m\u001b[0;34m)\u001b[0m\u001b[0;34m:\u001b[0m\u001b[0;34m\u001b[0m\u001b[0;34m\u001b[0m\u001b[0m\n\u001b[1;32m     14\u001b[0m   \u001b[0mrand_i\u001b[0m \u001b[0;34m=\u001b[0m \u001b[0mnp\u001b[0m\u001b[0;34m.\u001b[0m\u001b[0mrandom\u001b[0m\u001b[0;34m.\u001b[0m\u001b[0mrandint\u001b[0m\u001b[0;34m(\u001b[0m\u001b[0mlen\u001b[0m\u001b[0;34m(\u001b[0m\u001b[0mx\u001b[0m\u001b[0;34m.\u001b[0m\u001b[0mvalues\u001b[0m\u001b[0;34m)\u001b[0m\u001b[0;34m)\u001b[0m\u001b[0;34m\u001b[0m\u001b[0;34m\u001b[0m\u001b[0m\n\u001b[0;32m---> 15\u001b[0;31m   \u001b[0msom\u001b[0m\u001b[0;34m.\u001b[0m\u001b[0mupadate\u001b[0m\u001b[0;34m(\u001b[0m\u001b[0mx\u001b[0m\u001b[0;34m.\u001b[0m\u001b[0mvalues\u001b[0m\u001b[0;34m[\u001b[0m\u001b[0mrand_i\u001b[0m\u001b[0;34m]\u001b[0m\u001b[0;34m,\u001b[0m \u001b[0msom\u001b[0m\u001b[0;34m.\u001b[0m\u001b[0mwinner\u001b[0m\u001b[0;34m(\u001b[0m\u001b[0mx\u001b[0m\u001b[0;34m.\u001b[0m\u001b[0mvalues\u001b[0m\u001b[0;34m[\u001b[0m\u001b[0mrand_i\u001b[0m\u001b[0;34m]\u001b[0m\u001b[0;34m)\u001b[0m\u001b[0;34m,\u001b[0m \u001b[0mi\u001b[0m\u001b[0;34m,\u001b[0m \u001b[0mepocas\u001b[0m\u001b[0;34m)\u001b[0m\u001b[0;34m\u001b[0m\u001b[0;34m\u001b[0m\u001b[0m\n\u001b[0m\u001b[1;32m     16\u001b[0m   \u001b[0mq_error\u001b[0m\u001b[0;34m.\u001b[0m\u001b[0mappend\u001b[0m\u001b[0;34m(\u001b[0m\u001b[0msom\u001b[0m\u001b[0;34m.\u001b[0m\u001b[0mquantization_error\u001b[0m\u001b[0;34m(\u001b[0m\u001b[0mx\u001b[0m\u001b[0;34m.\u001b[0m\u001b[0mvalues\u001b[0m\u001b[0;34m)\u001b[0m\u001b[0;34m)\u001b[0m\u001b[0;34m\u001b[0m\u001b[0;34m\u001b[0m\u001b[0m\n\u001b[1;32m     17\u001b[0m   \u001b[0mt_error\u001b[0m\u001b[0;34m.\u001b[0m\u001b[0mappend\u001b[0m\u001b[0;34m(\u001b[0m\u001b[0msom\u001b[0m\u001b[0;34m.\u001b[0m\u001b[0mtopographic_error\u001b[0m\u001b[0;34m(\u001b[0m\u001b[0mx\u001b[0m\u001b[0;34m.\u001b[0m\u001b[0mvalues\u001b[0m\u001b[0;34m)\u001b[0m\u001b[0;34m)\u001b[0m\u001b[0;34m\u001b[0m\u001b[0;34m\u001b[0m\u001b[0m\n",
            "\u001b[0;31mAttributeError\u001b[0m: 'MiniSom' object has no attribute 'upadate'"
          ]
        }
      ]
    }
  ]
}